{
 "cells": [
  {
   "cell_type": "markdown",
   "id": "c957355a-dff4-4b0f-919c-bd9525896824",
   "metadata": {},
   "source": [
    "**In this project, I tried to achieve the lowest root mean square error score by using Regularization techniques.**"
   ]
  },
  {
   "cell_type": "code",
   "execution_count": 1,
   "id": "cbdb3142-cef1-415f-ae8a-cd12964a2add",
   "metadata": {},
   "outputs": [],
   "source": [
    "import pandas as pd\n",
    "import matplotlib.pyplot as plt\n",
    "import numpy as np\n",
    "import seaborn as sn"
   ]
  },
  {
   "cell_type": "code",
   "execution_count": 2,
   "id": "54da6302-12fa-46d1-bdeb-8e3d279f2199",
   "metadata": {},
   "outputs": [],
   "source": [
    "data = pd.read_csv(\"GlobalLandTemperaturesByMajorCity.csv\")"
   ]
  },
  {
   "cell_type": "code",
   "execution_count": 3,
   "id": "11d55cd1-71a2-4bf1-b8b9-19f9d5c34953",
   "metadata": {},
   "outputs": [
    {
     "data": {
      "text/plain": [
       "Index(['dt', 'AverageTemperature', 'AverageTemperatureUncertainty', 'City',\n",
       "       'Country', 'Latitude', 'Longitude'],\n",
       "      dtype='object')"
      ]
     },
     "execution_count": 3,
     "metadata": {},
     "output_type": "execute_result"
    }
   ],
   "source": [
    "data.columns"
   ]
  },
  {
   "cell_type": "code",
   "execution_count": 4,
   "id": "e868d893-1d1e-4568-97f1-447230475710",
   "metadata": {},
   "outputs": [
    {
     "name": "stdout",
     "output_type": "stream",
     "text": [
      "<class 'pandas.core.frame.DataFrame'>\n",
      "RangeIndex: 239177 entries, 0 to 239176\n",
      "Data columns (total 7 columns):\n",
      " #   Column                         Non-Null Count   Dtype  \n",
      "---  ------                         --------------   -----  \n",
      " 0   dt                             239177 non-null  object \n",
      " 1   AverageTemperature             228175 non-null  float64\n",
      " 2   AverageTemperatureUncertainty  228175 non-null  float64\n",
      " 3   City                           239177 non-null  object \n",
      " 4   Country                        239177 non-null  object \n",
      " 5   Latitude                       239177 non-null  object \n",
      " 6   Longitude                      239177 non-null  object \n",
      "dtypes: float64(2), object(5)\n",
      "memory usage: 12.8+ MB\n"
     ]
    }
   ],
   "source": [
    "data.info()"
   ]
  },
  {
   "cell_type": "code",
   "execution_count": 5,
   "id": "cd61f95f-4395-4545-a75b-c6a2b2070565",
   "metadata": {},
   "outputs": [],
   "source": [
    "y = data.groupby(\"City\")[\"AverageTemperature\"].mean().values"
   ]
  },
  {
   "cell_type": "code",
   "execution_count": 6,
   "id": "01cd389b-7a94-4148-9f5b-13188a66c545",
   "metadata": {},
   "outputs": [
    {
     "data": {
      "text/plain": [
       "array([26.1637372 , 17.52507266, 26.52985294, 17.37058733, 20.31261703,\n",
       "       10.39211715, 22.61434569, 24.85589593, 27.1647333 , 21.07139647,\n",
       "        8.91623373, 20.00226462, 26.63145215, 21.72759494, 21.22125921,\n",
       "       26.04215205, 21.7970272 , 16.07907955, 17.18415786,  4.92379793,\n",
       "       10.63804214, 10.07064374, 16.84496207, 24.6275203 , 10.22907681,\n",
       "       25.7446715 , 25.1658609 , 25.49056793, 20.35129204, 24.13839654,\n",
       "       27.00863954, 21.22125921, 21.60868426, 20.20784201,  3.62574407,\n",
       "       27.19398357, 26.86933493, 26.37310517, 13.50740903, 17.27806458,\n",
       "       25.39305794, 26.50820969, 27.69206602, 13.08981382, 14.34291891,\n",
       "       26.1405369 , 24.76004078, 26.01725904,  7.04103285, 23.86644092,\n",
       "       26.56592719, 24.13839654, 24.76004078, 16.76911966,  9.4590379 ,\n",
       "       15.87803844, 23.69304553, 28.41785845, 11.44870404, 26.44833449,\n",
       "       12.57199211, 13.37430382, 15.71742238, 27.15196367,  4.44501369,\n",
       "        3.99971068, 14.7550665 , 25.65501635, 16.08139511, 15.60205212,\n",
       "       25.1658609 ,  9.52329561, 10.40264435, 11.80938325, 24.64461523,\n",
       "       26.73519273, 23.78891555, 25.26333018, 11.9655019 ,  3.91804454,\n",
       "       24.65697137,  5.69227684, 25.97677662, 10.68188454, 15.96951158,\n",
       "        7.21497999, 26.52310283, 26.8099042 , 26.33085646, 17.00229889,\n",
       "       19.69936784, 22.21244085,  7.97680614, 11.57937336, 11.80938325,\n",
       "       12.55599752,  5.77391117, 29.08129129, 16.83094402, 11.4871477 ])"
      ]
     },
     "execution_count": 6,
     "metadata": {},
     "output_type": "execute_result"
    }
   ],
   "source": [
    "y"
   ]
  },
  {
   "cell_type": "code",
   "execution_count": 7,
   "id": "41e9b638-f4b6-4324-bb0d-49c56695ce10",
   "metadata": {},
   "outputs": [],
   "source": [
    "newData = data.drop_duplicates(subset=[\"City\"])\n",
    "newData = newData.drop([\"AverageTemperature\",\"dt\",\"City\"],axis=1)\n",
    "newData[\"AverageTemperature\"] = y"
   ]
  },
  {
   "cell_type": "code",
   "execution_count": 57,
   "id": "b93d1588-a040-447b-84f5-49202dcc994a",
   "metadata": {},
   "outputs": [
    {
     "data": {
      "text/html": [
       "<div>\n",
       "<style scoped>\n",
       "    .dataframe tbody tr th:only-of-type {\n",
       "        vertical-align: middle;\n",
       "    }\n",
       "\n",
       "    .dataframe tbody tr th {\n",
       "        vertical-align: top;\n",
       "    }\n",
       "\n",
       "    .dataframe thead th {\n",
       "        text-align: right;\n",
       "    }\n",
       "</style>\n",
       "<table border=\"1\" class=\"dataframe\">\n",
       "  <thead>\n",
       "    <tr style=\"text-align: right;\">\n",
       "      <th></th>\n",
       "      <th>AverageTemperatureUncertainty</th>\n",
       "      <th>Country</th>\n",
       "      <th>Latitude</th>\n",
       "      <th>Longitude</th>\n",
       "      <th>AverageTemperature</th>\n",
       "    </tr>\n",
       "  </thead>\n",
       "  <tbody>\n",
       "    <tr>\n",
       "      <th>0</th>\n",
       "      <td>1.435</td>\n",
       "      <td>Côte D'Ivoire</td>\n",
       "      <td>5.63N</td>\n",
       "      <td>3.23W</td>\n",
       "      <td>26.163737</td>\n",
       "    </tr>\n",
       "    <tr>\n",
       "      <th>1977</th>\n",
       "      <td>1.537</td>\n",
       "      <td>Ethiopia</td>\n",
       "      <td>8.84N</td>\n",
       "      <td>38.11E</td>\n",
       "      <td>17.525073</td>\n",
       "    </tr>\n",
       "    <tr>\n",
       "      <th>3942</th>\n",
       "      <td>2.286</td>\n",
       "      <td>India</td>\n",
       "      <td>23.31N</td>\n",
       "      <td>72.52E</td>\n",
       "      <td>26.529853</td>\n",
       "    </tr>\n",
       "    <tr>\n",
       "      <th>6555</th>\n",
       "      <td>1.993</td>\n",
       "      <td>Syria</td>\n",
       "      <td>36.17N</td>\n",
       "      <td>37.79E</td>\n",
       "      <td>17.370587</td>\n",
       "    </tr>\n",
       "    <tr>\n",
       "      <th>9224</th>\n",
       "      <td>1.848</td>\n",
       "      <td>Egypt</td>\n",
       "      <td>31.35N</td>\n",
       "      <td>30.16E</td>\n",
       "      <td>20.312617</td>\n",
       "    </tr>\n",
       "    <tr>\n",
       "      <th>...</th>\n",
       "      <td>...</td>\n",
       "      <td>...</td>\n",
       "      <td>...</td>\n",
       "      <td>...</td>\n",
       "      <td>...</td>\n",
       "    </tr>\n",
       "    <tr>\n",
       "      <th>227665</th>\n",
       "      <td>2.006</td>\n",
       "      <td>Japan</td>\n",
       "      <td>36.17N</td>\n",
       "      <td>139.23E</td>\n",
       "      <td>12.555998</td>\n",
       "    </tr>\n",
       "    <tr>\n",
       "      <th>229690</th>\n",
       "      <td>1.905</td>\n",
       "      <td>Canada</td>\n",
       "      <td>44.20N</td>\n",
       "      <td>80.50W</td>\n",
       "      <td>5.773911</td>\n",
       "    </tr>\n",
       "    <tr>\n",
       "      <th>232929</th>\n",
       "      <td>2.118</td>\n",
       "      <td>Sudan</td>\n",
       "      <td>15.27N</td>\n",
       "      <td>32.50E</td>\n",
       "      <td>29.081291</td>\n",
       "    </tr>\n",
       "    <tr>\n",
       "      <th>234786</th>\n",
       "      <td>2.772</td>\n",
       "      <td>China</td>\n",
       "      <td>29.74N</td>\n",
       "      <td>114.46E</td>\n",
       "      <td>16.830944</td>\n",
       "    </tr>\n",
       "    <tr>\n",
       "      <th>236859</th>\n",
       "      <td>2.218</td>\n",
       "      <td>China</td>\n",
       "      <td>34.56N</td>\n",
       "      <td>108.97E</td>\n",
       "      <td>11.487148</td>\n",
       "    </tr>\n",
       "  </tbody>\n",
       "</table>\n",
       "<p>100 rows × 5 columns</p>\n",
       "</div>"
      ],
      "text/plain": [
       "        AverageTemperatureUncertainty        Country Latitude Longitude  \\\n",
       "0                               1.435  Côte D'Ivoire    5.63N     3.23W   \n",
       "1977                            1.537       Ethiopia    8.84N    38.11E   \n",
       "3942                            2.286          India   23.31N    72.52E   \n",
       "6555                            1.993          Syria   36.17N    37.79E   \n",
       "9224                            1.848          Egypt   31.35N    30.16E   \n",
       "...                               ...            ...      ...       ...   \n",
       "227665                          2.006          Japan   36.17N   139.23E   \n",
       "229690                          1.905         Canada   44.20N    80.50W   \n",
       "232929                          2.118          Sudan   15.27N    32.50E   \n",
       "234786                          2.772          China   29.74N   114.46E   \n",
       "236859                          2.218          China   34.56N   108.97E   \n",
       "\n",
       "        AverageTemperature  \n",
       "0                26.163737  \n",
       "1977             17.525073  \n",
       "3942             26.529853  \n",
       "6555             17.370587  \n",
       "9224             20.312617  \n",
       "...                    ...  \n",
       "227665           12.555998  \n",
       "229690            5.773911  \n",
       "232929           29.081291  \n",
       "234786           16.830944  \n",
       "236859           11.487148  \n",
       "\n",
       "[100 rows x 5 columns]"
      ]
     },
     "execution_count": 57,
     "metadata": {},
     "output_type": "execute_result"
    }
   ],
   "source": [
    "newData"
   ]
  },
  {
   "cell_type": "code",
   "execution_count": 8,
   "id": "94828f9f-a5cf-4b0f-bd59-7ab9bf6724b8",
   "metadata": {},
   "outputs": [
    {
     "data": {
      "text/plain": [
       "AverageTemperatureUncertainty    float64\n",
       "Country                           object\n",
       "Latitude                          object\n",
       "Longitude                         object\n",
       "AverageTemperature               float64\n",
       "dtype: object"
      ]
     },
     "execution_count": 8,
     "metadata": {},
     "output_type": "execute_result"
    }
   ],
   "source": [
    "newData.dtypes"
   ]
  },
  {
   "cell_type": "code",
   "execution_count": 9,
   "id": "2b154682-839b-441f-b895-03302386a79c",
   "metadata": {},
   "outputs": [],
   "source": [
    "newData = pd.get_dummies(newData)"
   ]
  },
  {
   "cell_type": "code",
   "execution_count": 10,
   "id": "beda1c29-b9b9-49ad-8cc2-2de3384e6e8e",
   "metadata": {},
   "outputs": [
    {
     "data": {
      "text/html": [
       "<div>\n",
       "<style scoped>\n",
       "    .dataframe tbody tr th:only-of-type {\n",
       "        vertical-align: middle;\n",
       "    }\n",
       "\n",
       "    .dataframe tbody tr th {\n",
       "        vertical-align: top;\n",
       "    }\n",
       "\n",
       "    .dataframe thead th {\n",
       "        text-align: right;\n",
       "    }\n",
       "</style>\n",
       "<table border=\"1\" class=\"dataframe\">\n",
       "  <thead>\n",
       "    <tr style=\"text-align: right;\">\n",
       "      <th></th>\n",
       "      <th>AverageTemperatureUncertainty</th>\n",
       "      <th>AverageTemperature</th>\n",
       "      <th>Country_Afghanistan</th>\n",
       "      <th>Country_Angola</th>\n",
       "      <th>Country_Australia</th>\n",
       "      <th>Country_Bangladesh</th>\n",
       "      <th>Country_Brazil</th>\n",
       "      <th>Country_Burma</th>\n",
       "      <th>Country_Canada</th>\n",
       "      <th>Country_Chile</th>\n",
       "      <th>...</th>\n",
       "      <th>Longitude_8.22E</th>\n",
       "      <th>Longitude_80.09E</th>\n",
       "      <th>Longitude_80.50W</th>\n",
       "      <th>Longitude_80.60E</th>\n",
       "      <th>Longitude_87.27W</th>\n",
       "      <th>Longitude_88.25E</th>\n",
       "      <th>Longitude_90.00E</th>\n",
       "      <th>Longitude_95.44E</th>\n",
       "      <th>Longitude_98.96W</th>\n",
       "      <th>Longitude_99.91E</th>\n",
       "    </tr>\n",
       "  </thead>\n",
       "  <tbody>\n",
       "    <tr>\n",
       "      <th>0</th>\n",
       "      <td>1.435</td>\n",
       "      <td>26.163737</td>\n",
       "      <td>0</td>\n",
       "      <td>0</td>\n",
       "      <td>0</td>\n",
       "      <td>0</td>\n",
       "      <td>0</td>\n",
       "      <td>0</td>\n",
       "      <td>0</td>\n",
       "      <td>0</td>\n",
       "      <td>...</td>\n",
       "      <td>0</td>\n",
       "      <td>0</td>\n",
       "      <td>0</td>\n",
       "      <td>0</td>\n",
       "      <td>0</td>\n",
       "      <td>0</td>\n",
       "      <td>0</td>\n",
       "      <td>0</td>\n",
       "      <td>0</td>\n",
       "      <td>0</td>\n",
       "    </tr>\n",
       "    <tr>\n",
       "      <th>1977</th>\n",
       "      <td>1.537</td>\n",
       "      <td>17.525073</td>\n",
       "      <td>0</td>\n",
       "      <td>0</td>\n",
       "      <td>0</td>\n",
       "      <td>0</td>\n",
       "      <td>0</td>\n",
       "      <td>0</td>\n",
       "      <td>0</td>\n",
       "      <td>0</td>\n",
       "      <td>...</td>\n",
       "      <td>0</td>\n",
       "      <td>0</td>\n",
       "      <td>0</td>\n",
       "      <td>0</td>\n",
       "      <td>0</td>\n",
       "      <td>0</td>\n",
       "      <td>0</td>\n",
       "      <td>0</td>\n",
       "      <td>0</td>\n",
       "      <td>0</td>\n",
       "    </tr>\n",
       "    <tr>\n",
       "      <th>3942</th>\n",
       "      <td>2.286</td>\n",
       "      <td>26.529853</td>\n",
       "      <td>0</td>\n",
       "      <td>0</td>\n",
       "      <td>0</td>\n",
       "      <td>0</td>\n",
       "      <td>0</td>\n",
       "      <td>0</td>\n",
       "      <td>0</td>\n",
       "      <td>0</td>\n",
       "      <td>...</td>\n",
       "      <td>0</td>\n",
       "      <td>0</td>\n",
       "      <td>0</td>\n",
       "      <td>0</td>\n",
       "      <td>0</td>\n",
       "      <td>0</td>\n",
       "      <td>0</td>\n",
       "      <td>0</td>\n",
       "      <td>0</td>\n",
       "      <td>0</td>\n",
       "    </tr>\n",
       "    <tr>\n",
       "      <th>6555</th>\n",
       "      <td>1.993</td>\n",
       "      <td>17.370587</td>\n",
       "      <td>0</td>\n",
       "      <td>0</td>\n",
       "      <td>0</td>\n",
       "      <td>0</td>\n",
       "      <td>0</td>\n",
       "      <td>0</td>\n",
       "      <td>0</td>\n",
       "      <td>0</td>\n",
       "      <td>...</td>\n",
       "      <td>0</td>\n",
       "      <td>0</td>\n",
       "      <td>0</td>\n",
       "      <td>0</td>\n",
       "      <td>0</td>\n",
       "      <td>0</td>\n",
       "      <td>0</td>\n",
       "      <td>0</td>\n",
       "      <td>0</td>\n",
       "      <td>0</td>\n",
       "    </tr>\n",
       "    <tr>\n",
       "      <th>9224</th>\n",
       "      <td>1.848</td>\n",
       "      <td>20.312617</td>\n",
       "      <td>0</td>\n",
       "      <td>0</td>\n",
       "      <td>0</td>\n",
       "      <td>0</td>\n",
       "      <td>0</td>\n",
       "      <td>0</td>\n",
       "      <td>0</td>\n",
       "      <td>0</td>\n",
       "      <td>...</td>\n",
       "      <td>0</td>\n",
       "      <td>0</td>\n",
       "      <td>0</td>\n",
       "      <td>0</td>\n",
       "      <td>0</td>\n",
       "      <td>0</td>\n",
       "      <td>0</td>\n",
       "      <td>0</td>\n",
       "      <td>0</td>\n",
       "      <td>0</td>\n",
       "    </tr>\n",
       "    <tr>\n",
       "      <th>...</th>\n",
       "      <td>...</td>\n",
       "      <td>...</td>\n",
       "      <td>...</td>\n",
       "      <td>...</td>\n",
       "      <td>...</td>\n",
       "      <td>...</td>\n",
       "      <td>...</td>\n",
       "      <td>...</td>\n",
       "      <td>...</td>\n",
       "      <td>...</td>\n",
       "      <td>...</td>\n",
       "      <td>...</td>\n",
       "      <td>...</td>\n",
       "      <td>...</td>\n",
       "      <td>...</td>\n",
       "      <td>...</td>\n",
       "      <td>...</td>\n",
       "      <td>...</td>\n",
       "      <td>...</td>\n",
       "      <td>...</td>\n",
       "      <td>...</td>\n",
       "    </tr>\n",
       "    <tr>\n",
       "      <th>227665</th>\n",
       "      <td>2.006</td>\n",
       "      <td>12.555998</td>\n",
       "      <td>0</td>\n",
       "      <td>0</td>\n",
       "      <td>0</td>\n",
       "      <td>0</td>\n",
       "      <td>0</td>\n",
       "      <td>0</td>\n",
       "      <td>0</td>\n",
       "      <td>0</td>\n",
       "      <td>...</td>\n",
       "      <td>0</td>\n",
       "      <td>0</td>\n",
       "      <td>0</td>\n",
       "      <td>0</td>\n",
       "      <td>0</td>\n",
       "      <td>0</td>\n",
       "      <td>0</td>\n",
       "      <td>0</td>\n",
       "      <td>0</td>\n",
       "      <td>0</td>\n",
       "    </tr>\n",
       "    <tr>\n",
       "      <th>229690</th>\n",
       "      <td>1.905</td>\n",
       "      <td>5.773911</td>\n",
       "      <td>0</td>\n",
       "      <td>0</td>\n",
       "      <td>0</td>\n",
       "      <td>0</td>\n",
       "      <td>0</td>\n",
       "      <td>0</td>\n",
       "      <td>1</td>\n",
       "      <td>0</td>\n",
       "      <td>...</td>\n",
       "      <td>0</td>\n",
       "      <td>0</td>\n",
       "      <td>1</td>\n",
       "      <td>0</td>\n",
       "      <td>0</td>\n",
       "      <td>0</td>\n",
       "      <td>0</td>\n",
       "      <td>0</td>\n",
       "      <td>0</td>\n",
       "      <td>0</td>\n",
       "    </tr>\n",
       "    <tr>\n",
       "      <th>232929</th>\n",
       "      <td>2.118</td>\n",
       "      <td>29.081291</td>\n",
       "      <td>0</td>\n",
       "      <td>0</td>\n",
       "      <td>0</td>\n",
       "      <td>0</td>\n",
       "      <td>0</td>\n",
       "      <td>0</td>\n",
       "      <td>0</td>\n",
       "      <td>0</td>\n",
       "      <td>...</td>\n",
       "      <td>0</td>\n",
       "      <td>0</td>\n",
       "      <td>0</td>\n",
       "      <td>0</td>\n",
       "      <td>0</td>\n",
       "      <td>0</td>\n",
       "      <td>0</td>\n",
       "      <td>0</td>\n",
       "      <td>0</td>\n",
       "      <td>0</td>\n",
       "    </tr>\n",
       "    <tr>\n",
       "      <th>234786</th>\n",
       "      <td>2.772</td>\n",
       "      <td>16.830944</td>\n",
       "      <td>0</td>\n",
       "      <td>0</td>\n",
       "      <td>0</td>\n",
       "      <td>0</td>\n",
       "      <td>0</td>\n",
       "      <td>0</td>\n",
       "      <td>0</td>\n",
       "      <td>0</td>\n",
       "      <td>...</td>\n",
       "      <td>0</td>\n",
       "      <td>0</td>\n",
       "      <td>0</td>\n",
       "      <td>0</td>\n",
       "      <td>0</td>\n",
       "      <td>0</td>\n",
       "      <td>0</td>\n",
       "      <td>0</td>\n",
       "      <td>0</td>\n",
       "      <td>0</td>\n",
       "    </tr>\n",
       "    <tr>\n",
       "      <th>236859</th>\n",
       "      <td>2.218</td>\n",
       "      <td>11.487148</td>\n",
       "      <td>0</td>\n",
       "      <td>0</td>\n",
       "      <td>0</td>\n",
       "      <td>0</td>\n",
       "      <td>0</td>\n",
       "      <td>0</td>\n",
       "      <td>0</td>\n",
       "      <td>0</td>\n",
       "      <td>...</td>\n",
       "      <td>0</td>\n",
       "      <td>0</td>\n",
       "      <td>0</td>\n",
       "      <td>0</td>\n",
       "      <td>0</td>\n",
       "      <td>0</td>\n",
       "      <td>0</td>\n",
       "      <td>0</td>\n",
       "      <td>0</td>\n",
       "      <td>0</td>\n",
       "    </tr>\n",
       "  </tbody>\n",
       "</table>\n",
       "<p>100 rows × 193 columns</p>\n",
       "</div>"
      ],
      "text/plain": [
       "        AverageTemperatureUncertainty  AverageTemperature  \\\n",
       "0                               1.435           26.163737   \n",
       "1977                            1.537           17.525073   \n",
       "3942                            2.286           26.529853   \n",
       "6555                            1.993           17.370587   \n",
       "9224                            1.848           20.312617   \n",
       "...                               ...                 ...   \n",
       "227665                          2.006           12.555998   \n",
       "229690                          1.905            5.773911   \n",
       "232929                          2.118           29.081291   \n",
       "234786                          2.772           16.830944   \n",
       "236859                          2.218           11.487148   \n",
       "\n",
       "        Country_Afghanistan  Country_Angola  Country_Australia  \\\n",
       "0                         0               0                  0   \n",
       "1977                      0               0                  0   \n",
       "3942                      0               0                  0   \n",
       "6555                      0               0                  0   \n",
       "9224                      0               0                  0   \n",
       "...                     ...             ...                ...   \n",
       "227665                    0               0                  0   \n",
       "229690                    0               0                  0   \n",
       "232929                    0               0                  0   \n",
       "234786                    0               0                  0   \n",
       "236859                    0               0                  0   \n",
       "\n",
       "        Country_Bangladesh  Country_Brazil  Country_Burma  Country_Canada  \\\n",
       "0                        0               0              0               0   \n",
       "1977                     0               0              0               0   \n",
       "3942                     0               0              0               0   \n",
       "6555                     0               0              0               0   \n",
       "9224                     0               0              0               0   \n",
       "...                    ...             ...            ...             ...   \n",
       "227665                   0               0              0               0   \n",
       "229690                   0               0              0               1   \n",
       "232929                   0               0              0               0   \n",
       "234786                   0               0              0               0   \n",
       "236859                   0               0              0               0   \n",
       "\n",
       "        Country_Chile  ...  Longitude_8.22E  Longitude_80.09E  \\\n",
       "0                   0  ...                0                 0   \n",
       "1977                0  ...                0                 0   \n",
       "3942                0  ...                0                 0   \n",
       "6555                0  ...                0                 0   \n",
       "9224                0  ...                0                 0   \n",
       "...               ...  ...              ...               ...   \n",
       "227665              0  ...                0                 0   \n",
       "229690              0  ...                0                 0   \n",
       "232929              0  ...                0                 0   \n",
       "234786              0  ...                0                 0   \n",
       "236859              0  ...                0                 0   \n",
       "\n",
       "        Longitude_80.50W  Longitude_80.60E  Longitude_87.27W  \\\n",
       "0                      0                 0                 0   \n",
       "1977                   0                 0                 0   \n",
       "3942                   0                 0                 0   \n",
       "6555                   0                 0                 0   \n",
       "9224                   0                 0                 0   \n",
       "...                  ...               ...               ...   \n",
       "227665                 0                 0                 0   \n",
       "229690                 1                 0                 0   \n",
       "232929                 0                 0                 0   \n",
       "234786                 0                 0                 0   \n",
       "236859                 0                 0                 0   \n",
       "\n",
       "        Longitude_88.25E  Longitude_90.00E  Longitude_95.44E  \\\n",
       "0                      0                 0                 0   \n",
       "1977                   0                 0                 0   \n",
       "3942                   0                 0                 0   \n",
       "6555                   0                 0                 0   \n",
       "9224                   0                 0                 0   \n",
       "...                  ...               ...               ...   \n",
       "227665                 0                 0                 0   \n",
       "229690                 0                 0                 0   \n",
       "232929                 0                 0                 0   \n",
       "234786                 0                 0                 0   \n",
       "236859                 0                 0                 0   \n",
       "\n",
       "        Longitude_98.96W  Longitude_99.91E  \n",
       "0                      0                 0  \n",
       "1977                   0                 0  \n",
       "3942                   0                 0  \n",
       "6555                   0                 0  \n",
       "9224                   0                 0  \n",
       "...                  ...               ...  \n",
       "227665                 0                 0  \n",
       "229690                 0                 0  \n",
       "232929                 0                 0  \n",
       "234786                 0                 0  \n",
       "236859                 0                 0  \n",
       "\n",
       "[100 rows x 193 columns]"
      ]
     },
     "execution_count": 10,
     "metadata": {},
     "output_type": "execute_result"
    }
   ],
   "source": [
    "newData"
   ]
  },
  {
   "cell_type": "code",
   "execution_count": 11,
   "id": "7bdea83d-286b-45dd-be05-aecb7febdd23",
   "metadata": {},
   "outputs": [],
   "source": [
    "X = newData.drop(\"AverageTemperature\",axis = 1)"
   ]
  },
  {
   "cell_type": "code",
   "execution_count": 12,
   "id": "1131c4fb-4df7-4449-9a51-1fa6c1d453cc",
   "metadata": {},
   "outputs": [],
   "source": [
    "from sklearn.model_selection import cross_val_score\n",
    "def rmse_cv(model, cv=5):\n",
    "    rmse = np.sqrt(-cross_val_score(model, X, y, scoring='neg_mean_squared_error', cv=cv))\n",
    "    return rmse"
   ]
  },
  {
   "cell_type": "code",
   "execution_count": 13,
   "id": "6b0d5705-86c1-4aa9-bc91-8c1c78d5d603",
   "metadata": {},
   "outputs": [],
   "source": [
    "from sklearn.linear_model import LinearRegression\n",
    "linearModel = LinearRegression()\n",
    "rmse = rmse_cv(linearModel)"
   ]
  },
  {
   "cell_type": "code",
   "execution_count": 14,
   "id": "cbc62dc7-c113-4c79-9db4-7eb919dda2f1",
   "metadata": {},
   "outputs": [
    {
     "name": "stdout",
     "output_type": "stream",
     "text": [
      "RMSE AVERAGE = 5.8836555069101735\n"
     ]
    }
   ],
   "source": [
    "print(f\"RMSE AVERAGE = {rmse.mean()}\")"
   ]
  },
  {
   "cell_type": "code",
   "execution_count": 15,
   "id": "b346a444-76a2-4a93-a017-b7adeb6573f5",
   "metadata": {},
   "outputs": [],
   "source": [
    "from sklearn.linear_model import Ridge\n",
    "ridgeModel = Ridge(alpha = 0.1)\n",
    "rmse = rmse_cv(ridgeModel)"
   ]
  },
  {
   "cell_type": "code",
   "execution_count": 16,
   "id": "6069f257-6406-4d26-8759-1ff09d522c29",
   "metadata": {},
   "outputs": [
    {
     "name": "stdout",
     "output_type": "stream",
     "text": [
      "RMSE AVERAGE = 5.7319155090123655\n"
     ]
    }
   ],
   "source": [
    "print(f\"RMSE AVERAGE = {rmse.mean()}\")"
   ]
  },
  {
   "cell_type": "code",
   "execution_count": 23,
   "id": "5752c0dc-4a25-454b-a9a3-60f3d90f2114",
   "metadata": {},
   "outputs": [
    {
     "data": {
      "image/png": "[encoded data removed]",
      "text/plain": [
       "<Figure size 640x480 with 1 Axes>"
      ]
     },
     "metadata": {},
     "output_type": "display_data"
    }
   ],
   "source": [
    "alphas = [0.005,0.05, 0.1, 0.3, 1, 3, 5, 10, 15, 30, 50, 75]\n",
    "\n",
    "cv_ridge = [rmse_cv(Ridge(alpha = alpha)).mean() for alpha in alphas]\n",
    "\n",
    "cv_ridge = pd.Series(cv_ridge, index = alphas)\n",
    "\n",
    "# RMSE vs alpha grafiği\n",
    "cv_ridge.plot(title = \"Alpha & Ridge Regression RMSE Value\")\n",
    "\n",
    "plt.xlabel(\"alpha\")\n",
    "plt.ylabel(\"rmse\")\n",
    "\n",
    "plt.show()"
   ]
  },
  {
   "cell_type": "code",
   "execution_count": 24,
   "id": "ba4e73fc-c2dc-4fe1-a50f-7db8a303ae62",
   "metadata": {},
   "outputs": [],
   "source": [
    "optimal_ridge_alpha = cv_ridge[cv_ridge == cv_ridge.min()].index.values[0]"
   ]
  },
  {
   "cell_type": "code",
   "execution_count": 25,
   "id": "5fd791f9-715d-4301-9790-5503c821e6cb",
   "metadata": {},
   "outputs": [
    {
     "name": "stdout",
     "output_type": "stream",
     "text": [
      "Optimal Alpha = 0.3\n"
     ]
    }
   ],
   "source": [
    "print(f\"Optimal Alpha = {optimal_ridge_alpha}\")"
   ]
  },
  {
   "cell_type": "code",
   "execution_count": 26,
   "id": "774c70f6-c9c3-41fa-8a10-e5e31d2ac8be",
   "metadata": {},
   "outputs": [
    {
     "name": "stdout",
     "output_type": "stream",
     "text": [
      "RMSE AVERAGE = 5.773992292125191\n"
     ]
    }
   ],
   "source": [
    "ridgeModel = Ridge(alpha = 1.0)\n",
    "rmse = rmse_cv(ridgeModel)\n",
    "print(f\"RMSE AVERAGE = {rmse.mean()}\")"
   ]
  },
  {
   "cell_type": "code",
   "execution_count": 27,
   "id": "ab6d0a4e-6dc4-47e2-826d-7e2f0505da4d",
   "metadata": {},
   "outputs": [
    {
     "name": "stdout",
     "output_type": "stream",
     "text": [
      "Optimal Lasso Alpha: 0.02\n"
     ]
    }
   ],
   "source": [
    "from sklearn.linear_model import LassoCV\n",
    "from sklearn.linear_model import Lasso\n",
    "\n",
    "lassoModel = LassoCV(alphas = np.linspace(0.010, 1, 100), cv = 5).fit(X, y)\n",
    "lassoModel.alpha_\n",
    "\n",
    "optimalLassoAlpha = lassoModel.alpha_\n",
    "print(f\"Optimal Lasso Alpha: {optimalLassoAlpha}\")"
   ]
  },
  {
   "cell_type": "code",
   "execution_count": 28,
   "id": "e1165746-aea8-4f98-ba80-26b8c64e0af7",
   "metadata": {},
   "outputs": [
    {
     "name": "stdout",
     "output_type": "stream",
     "text": [
      "RMSE AVERAGE = 6.106004707601253\n"
     ]
    }
   ],
   "source": [
    "lassoModel = Lasso(alpha = optimalLassoAlpha)\n",
    "rmse = rmse_cv(lassoModel)\n",
    "print(f\"RMSE AVERAGE = {rmse.mean()}\")"
   ]
  },
  {
   "cell_type": "markdown",
   "id": "42263cda-f16f-48f1-b0aa-0a56942b44cd",
   "metadata": {},
   "source": [
    "**As a result, the lowest root mean square error score was obtained when alpha equals 0.3 in the ridge Regularization model!**"
   ]
  }
 ],
 "metadata": {
  "kernelspec": {
   "display_name": "Python 3 (ipykernel)",
   "language": "python",
   "name": "python3"
  },
  "language_info": {
   "codemirror_mode": {
    "name": "ipython",
    "version": 3
   },
   "file_extension": ".py",
   "mimetype": "text/x-python",
   "name": "python",
   "nbconvert_exporter": "python",
   "pygments_lexer": "ipython3",
   "version": "3.10.9"
  }
 },
 "nbformat": 4,
 "nbformat_minor": 5
}

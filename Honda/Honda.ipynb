{
 "cells": [
  {
   "cell_type": "markdown",
   "id": "e2272f9e-1730-4132-9c79-5c4530468525",
   "metadata": {},
   "source": [
    "**I made a price prediction by analyzing the Honda branded car dataset**"
   ]
  },
  {
   "cell_type": "markdown",
   "id": "7c5f85cb-4efe-49d0-8f5a-bc680d2f7a34",
   "metadata": {},
   "source": [
    "**with Random Forest**"
   ]
  },
  {
   "cell_type": "code",
   "execution_count": 238,
   "id": "ab8ebe53-6532-4628-9f3d-6e6227fac5c5",
   "metadata": {},
   "outputs": [],
   "source": [
    "import pandas as pd\n",
    "import numpy as np\n",
    "import matplotlib.pyplot as plt\n",
    "import seaborn as sns"
   ]
  },
  {
   "cell_type": "code",
   "execution_count": 239,
   "id": "ee5ea661-59ac-4d20-8f1b-25e61ce388dd",
   "metadata": {},
   "outputs": [],
   "source": [
    "data = pd.read_csv(\"honda_car_selling.csv\")"
   ]
  },
  {
   "cell_type": "code",
   "execution_count": 240,
   "id": "ee7a1ad6-17e7-4643-8c61-aefbd4faa2a5",
   "metadata": {},
   "outputs": [
    {
     "data": {
      "text/html": [
       "<div>\n",
       "<style scoped>\n",
       "    .dataframe tbody tr th:only-of-type {\n",
       "        vertical-align: middle;\n",
       "    }\n",
       "\n",
       "    .dataframe tbody tr th {\n",
       "        vertical-align: top;\n",
       "    }\n",
       "\n",
       "    .dataframe thead th {\n",
       "        text-align: right;\n",
       "    }\n",
       "</style>\n",
       "<table border=\"1\" class=\"dataframe\">\n",
       "  <thead>\n",
       "    <tr style=\"text-align: right;\">\n",
       "      <th></th>\n",
       "      <th>Year</th>\n",
       "      <th>kms Driven</th>\n",
       "      <th>Fuel Type</th>\n",
       "      <th>Suspension</th>\n",
       "      <th>Price</th>\n",
       "      <th>Car Model</th>\n",
       "    </tr>\n",
       "  </thead>\n",
       "  <tbody>\n",
       "    <tr>\n",
       "      <th>0</th>\n",
       "      <td>2019</td>\n",
       "      <td>19006 kms</td>\n",
       "      <td>Petrol</td>\n",
       "      <td>Automatic</td>\n",
       "      <td>9.29 Lakh</td>\n",
       "      <td>Honda City V CVT</td>\n",
       "    </tr>\n",
       "    <tr>\n",
       "      <th>1</th>\n",
       "      <td>2021</td>\n",
       "      <td>11936 kms</td>\n",
       "      <td>Petrol</td>\n",
       "      <td>Automatic</td>\n",
       "      <td>13.95 Lakh</td>\n",
       "      <td>Honda City ZX CVT</td>\n",
       "    </tr>\n",
       "    <tr>\n",
       "      <th>2</th>\n",
       "      <td>2018</td>\n",
       "      <td>29635 kms</td>\n",
       "      <td>Petrol</td>\n",
       "      <td>Automatic</td>\n",
       "      <td>9.95 Lakh</td>\n",
       "      <td>Honda City i-VTEC CVT ZX</td>\n",
       "    </tr>\n",
       "    <tr>\n",
       "      <th>3</th>\n",
       "      <td>2020</td>\n",
       "      <td>16163 kms</td>\n",
       "      <td>Petrol</td>\n",
       "      <td>Automatic</td>\n",
       "      <td>13.26 Lakh</td>\n",
       "      <td>Honda City ZX CVT</td>\n",
       "    </tr>\n",
       "    <tr>\n",
       "      <th>4</th>\n",
       "      <td>2015</td>\n",
       "      <td>105114 kms</td>\n",
       "      <td>Petrol</td>\n",
       "      <td>Manual</td>\n",
       "      <td>5.68 Lakh</td>\n",
       "      <td>Honda City i VTEC V</td>\n",
       "    </tr>\n",
       "  </tbody>\n",
       "</table>\n",
       "</div>"
      ],
      "text/plain": [
       "   Year   kms Driven Fuel Type  Suspension        Price  \\\n",
       "0  2019   19006 kms    Petrol    Automatic    9.29 Lakh   \n",
       "1  2021   11936 kms    Petrol    Automatic   13.95 Lakh   \n",
       "2  2018   29635 kms    Petrol    Automatic    9.95 Lakh   \n",
       "3  2020   16163 kms    Petrol    Automatic   13.26 Lakh   \n",
       "4  2015  105114 kms    Petrol       Manual    5.68 Lakh   \n",
       "\n",
       "                  Car Model  \n",
       "0          Honda City V CVT  \n",
       "1         Honda City ZX CVT  \n",
       "2  Honda City i-VTEC CVT ZX  \n",
       "3         Honda City ZX CVT  \n",
       "4       Honda City i VTEC V  "
      ]
     },
     "execution_count": 240,
     "metadata": {},
     "output_type": "execute_result"
    }
   ],
   "source": [
    "data.head()"
   ]
  },
  {
   "cell_type": "code",
   "execution_count": 241,
   "id": "e3e72ac0-54f1-4ef8-93e8-750e7388f031",
   "metadata": {},
   "outputs": [
    {
     "name": "stdout",
     "output_type": "stream",
     "text": [
      "<class 'pandas.core.frame.DataFrame'>\n",
      "RangeIndex: 999 entries, 0 to 998\n",
      "Data columns (total 6 columns):\n",
      " #   Column      Non-Null Count  Dtype \n",
      "---  ------      --------------  ----- \n",
      " 0   Year        999 non-null    int64 \n",
      " 1   kms Driven  999 non-null    object\n",
      " 2   Fuel Type   999 non-null    object\n",
      " 3   Suspension  999 non-null    object\n",
      " 4   Price       999 non-null    object\n",
      " 5   Car Model   999 non-null    object\n",
      "dtypes: int64(1), object(5)\n",
      "memory usage: 47.0+ KB\n"
     ]
    }
   ],
   "source": [
    "data.info()"
   ]
  },
  {
   "cell_type": "code",
   "execution_count": 242,
   "id": "d65401c9-02ad-4a33-9be0-0e3d6c283b0c",
   "metadata": {},
   "outputs": [],
   "source": [
    "y = data[\"Price\"]\n",
    "new_price_array = list()\n",
    "for i in y.values:\n",
    "    list1 = i.split(\" \")\n",
    "    if \",\" in list1[1]:\n",
    "        change = list1[1].replace(\",\",\"\")\n",
    "        new_price_array.append(float(change)/100000)\n",
    "    else:\n",
    "        new_price_array.append(float(list1[1]))"
   ]
  },
  {
   "cell_type": "code",
   "execution_count": 243,
   "id": "f4fc40bd-e78b-43d5-a595-8e5060a44328",
   "metadata": {},
   "outputs": [],
   "source": [
    "# 1 Lakh = 5.253 usd\n",
    "for i in new_price_array:\n",
    "    index = new_price_array.index(i)\n",
    "    new_price_array[index] = i*5253"
   ]
  },
  {
   "cell_type": "code",
   "execution_count": 244,
   "id": "7d8c76b4-fdb7-46a8-9ed2-207593c7bb5c",
   "metadata": {},
   "outputs": [],
   "source": [
    "y = pd.DataFrame(data = new_price_array,columns=[\"Price\"])\n"
   ]
  },
  {
   "cell_type": "code",
   "execution_count": 245,
   "id": "b5c51a9c-21bc-4989-af04-fa15a6c9c0ba",
   "metadata": {},
   "outputs": [],
   "source": [
    "y.head()\n",
    "y = y[\"Price\"]"
   ]
  },
  {
   "cell_type": "code",
   "execution_count": 246,
   "id": "b8083f78-79ea-452d-9da3-66f921f5f132",
   "metadata": {},
   "outputs": [],
   "source": [
    "X = data.drop(\"Price\",axis = 1)"
   ]
  },
  {
   "cell_type": "code",
   "execution_count": 247,
   "id": "7f3ca90d-849d-4fde-a7c3-55e403196ffb",
   "metadata": {},
   "outputs": [
    {
     "data": {
      "text/html": [
       "<div>\n",
       "<style scoped>\n",
       "    .dataframe tbody tr th:only-of-type {\n",
       "        vertical-align: middle;\n",
       "    }\n",
       "\n",
       "    .dataframe tbody tr th {\n",
       "        vertical-align: top;\n",
       "    }\n",
       "\n",
       "    .dataframe thead th {\n",
       "        text-align: right;\n",
       "    }\n",
       "</style>\n",
       "<table border=\"1\" class=\"dataframe\">\n",
       "  <thead>\n",
       "    <tr style=\"text-align: right;\">\n",
       "      <th></th>\n",
       "      <th>Year</th>\n",
       "      <th>kms Driven</th>\n",
       "      <th>Fuel Type</th>\n",
       "      <th>Suspension</th>\n",
       "      <th>Car Model</th>\n",
       "    </tr>\n",
       "  </thead>\n",
       "  <tbody>\n",
       "    <tr>\n",
       "      <th>0</th>\n",
       "      <td>2019</td>\n",
       "      <td>19006 kms</td>\n",
       "      <td>Petrol</td>\n",
       "      <td>Automatic</td>\n",
       "      <td>Honda City V CVT</td>\n",
       "    </tr>\n",
       "    <tr>\n",
       "      <th>1</th>\n",
       "      <td>2021</td>\n",
       "      <td>11936 kms</td>\n",
       "      <td>Petrol</td>\n",
       "      <td>Automatic</td>\n",
       "      <td>Honda City ZX CVT</td>\n",
       "    </tr>\n",
       "    <tr>\n",
       "      <th>2</th>\n",
       "      <td>2018</td>\n",
       "      <td>29635 kms</td>\n",
       "      <td>Petrol</td>\n",
       "      <td>Automatic</td>\n",
       "      <td>Honda City i-VTEC CVT ZX</td>\n",
       "    </tr>\n",
       "    <tr>\n",
       "      <th>3</th>\n",
       "      <td>2020</td>\n",
       "      <td>16163 kms</td>\n",
       "      <td>Petrol</td>\n",
       "      <td>Automatic</td>\n",
       "      <td>Honda City ZX CVT</td>\n",
       "    </tr>\n",
       "    <tr>\n",
       "      <th>4</th>\n",
       "      <td>2015</td>\n",
       "      <td>105114 kms</td>\n",
       "      <td>Petrol</td>\n",
       "      <td>Manual</td>\n",
       "      <td>Honda City i VTEC V</td>\n",
       "    </tr>\n",
       "  </tbody>\n",
       "</table>\n",
       "</div>"
      ],
      "text/plain": [
       "   Year   kms Driven Fuel Type  Suspension                 Car Model\n",
       "0  2019   19006 kms    Petrol    Automatic          Honda City V CVT\n",
       "1  2021   11936 kms    Petrol    Automatic         Honda City ZX CVT\n",
       "2  2018   29635 kms    Petrol    Automatic  Honda City i-VTEC CVT ZX\n",
       "3  2020   16163 kms    Petrol    Automatic         Honda City ZX CVT\n",
       "4  2015  105114 kms    Petrol       Manual       Honda City i VTEC V"
      ]
     },
     "execution_count": 247,
     "metadata": {},
     "output_type": "execute_result"
    }
   ],
   "source": [
    "X.head()"
   ]
  },
  {
   "cell_type": "code",
   "execution_count": 248,
   "id": "4d8cbd41-9b84-4ab2-8ce3-6e0f85d68c95",
   "metadata": {},
   "outputs": [],
   "source": [
    "list_car_names = list()\n",
    "for i in X[\"Car Model\"]:\n",
    "    new_name = i.split(\" \")[1]\n",
    "    list_car_names.append(new_name)"
   ]
  },
  {
   "cell_type": "code",
   "execution_count": 249,
   "id": "9f3238a5-9fbd-4a9a-a26e-764a2f67f11f",
   "metadata": {},
   "outputs": [],
   "source": [
    "X[\"Car Name\"] = list_car_names\n",
    "X.drop(\"Car Model\",axis = 1, inplace = True)"
   ]
  },
  {
   "cell_type": "code",
   "execution_count": 250,
   "id": "f38c2ca2-aaa2-4ea4-baea-75c807e0dd81",
   "metadata": {},
   "outputs": [
    {
     "data": {
      "text/html": [
       "<div>\n",
       "<style scoped>\n",
       "    .dataframe tbody tr th:only-of-type {\n",
       "        vertical-align: middle;\n",
       "    }\n",
       "\n",
       "    .dataframe tbody tr th {\n",
       "        vertical-align: top;\n",
       "    }\n",
       "\n",
       "    .dataframe thead th {\n",
       "        text-align: right;\n",
       "    }\n",
       "</style>\n",
       "<table border=\"1\" class=\"dataframe\">\n",
       "  <thead>\n",
       "    <tr style=\"text-align: right;\">\n",
       "      <th></th>\n",
       "      <th>Year</th>\n",
       "      <th>kms Driven</th>\n",
       "      <th>Fuel Type</th>\n",
       "      <th>Suspension</th>\n",
       "      <th>Car Name</th>\n",
       "    </tr>\n",
       "  </thead>\n",
       "  <tbody>\n",
       "    <tr>\n",
       "      <th>0</th>\n",
       "      <td>2019</td>\n",
       "      <td>19006 kms</td>\n",
       "      <td>Petrol</td>\n",
       "      <td>Automatic</td>\n",
       "      <td>City</td>\n",
       "    </tr>\n",
       "    <tr>\n",
       "      <th>1</th>\n",
       "      <td>2021</td>\n",
       "      <td>11936 kms</td>\n",
       "      <td>Petrol</td>\n",
       "      <td>Automatic</td>\n",
       "      <td>City</td>\n",
       "    </tr>\n",
       "    <tr>\n",
       "      <th>2</th>\n",
       "      <td>2018</td>\n",
       "      <td>29635 kms</td>\n",
       "      <td>Petrol</td>\n",
       "      <td>Automatic</td>\n",
       "      <td>City</td>\n",
       "    </tr>\n",
       "    <tr>\n",
       "      <th>3</th>\n",
       "      <td>2020</td>\n",
       "      <td>16163 kms</td>\n",
       "      <td>Petrol</td>\n",
       "      <td>Automatic</td>\n",
       "      <td>City</td>\n",
       "    </tr>\n",
       "    <tr>\n",
       "      <th>4</th>\n",
       "      <td>2015</td>\n",
       "      <td>105114 kms</td>\n",
       "      <td>Petrol</td>\n",
       "      <td>Manual</td>\n",
       "      <td>City</td>\n",
       "    </tr>\n",
       "  </tbody>\n",
       "</table>\n",
       "</div>"
      ],
      "text/plain": [
       "   Year   kms Driven Fuel Type  Suspension Car Name\n",
       "0  2019   19006 kms    Petrol    Automatic     City\n",
       "1  2021   11936 kms    Petrol    Automatic     City\n",
       "2  2018   29635 kms    Petrol    Automatic     City\n",
       "3  2020   16163 kms    Petrol    Automatic     City\n",
       "4  2015  105114 kms    Petrol       Manual     City"
      ]
     },
     "execution_count": 250,
     "metadata": {},
     "output_type": "execute_result"
    }
   ],
   "source": [
    "X.head()"
   ]
  },
  {
   "cell_type": "code",
   "execution_count": 251,
   "id": "a51d609f-d8ed-46f8-bb60-e2d35075eb80",
   "metadata": {},
   "outputs": [
    {
     "data": {
      "text/plain": [
       "City       476\n",
       "Amaze      217\n",
       "Jazz        92\n",
       "Brio        57\n",
       "WR-V        43\n",
       "Civic       40\n",
       "BR-V        22\n",
       "Mobilio     19\n",
       "CR-V        19\n",
       "Accord      14\n",
       "Name: Car Name, dtype: int64"
      ]
     },
     "execution_count": 251,
     "metadata": {},
     "output_type": "execute_result"
    }
   ],
   "source": [
    "X[\"Car Name\"].value_counts()"
   ]
  },
  {
   "cell_type": "code",
   "execution_count": 252,
   "id": "ca273b04-1124-45a0-ab3e-a25bb4bddde9",
   "metadata": {},
   "outputs": [],
   "source": [
    "new_kms = list()\n",
    "for i in X[\"kms Driven\"]:\n",
    "    new_float_kms = float(i.split(\" \")[0])\n",
    "    new_kms.append(new_float_kms)"
   ]
  },
  {
   "cell_type": "code",
   "execution_count": 253,
   "id": "5f73c696-3e57-4fd0-b9a0-f0be1cf666fb",
   "metadata": {},
   "outputs": [],
   "source": [
    "X.drop(\"kms Driven\",axis=1,inplace = True)"
   ]
  },
  {
   "cell_type": "code",
   "execution_count": 254,
   "id": "f90df227-f9e8-46dd-9f32-152786fe2741",
   "metadata": {},
   "outputs": [],
   "source": [
    "X[\"kms Driven\"] = new_kms"
   ]
  },
  {
   "cell_type": "code",
   "execution_count": 255,
   "id": "77347d66-c8a6-4f6b-987f-f2918a9cce59",
   "metadata": {},
   "outputs": [
    {
     "data": {
      "text/html": [
       "<div>\n",
       "<style scoped>\n",
       "    .dataframe tbody tr th:only-of-type {\n",
       "        vertical-align: middle;\n",
       "    }\n",
       "\n",
       "    .dataframe tbody tr th {\n",
       "        vertical-align: top;\n",
       "    }\n",
       "\n",
       "    .dataframe thead th {\n",
       "        text-align: right;\n",
       "    }\n",
       "</style>\n",
       "<table border=\"1\" class=\"dataframe\">\n",
       "  <thead>\n",
       "    <tr style=\"text-align: right;\">\n",
       "      <th></th>\n",
       "      <th>Year</th>\n",
       "      <th>Fuel Type</th>\n",
       "      <th>Suspension</th>\n",
       "      <th>Car Name</th>\n",
       "      <th>kms Driven</th>\n",
       "    </tr>\n",
       "  </thead>\n",
       "  <tbody>\n",
       "    <tr>\n",
       "      <th>0</th>\n",
       "      <td>2019</td>\n",
       "      <td>Petrol</td>\n",
       "      <td>Automatic</td>\n",
       "      <td>City</td>\n",
       "      <td>19006.0</td>\n",
       "    </tr>\n",
       "    <tr>\n",
       "      <th>1</th>\n",
       "      <td>2021</td>\n",
       "      <td>Petrol</td>\n",
       "      <td>Automatic</td>\n",
       "      <td>City</td>\n",
       "      <td>11936.0</td>\n",
       "    </tr>\n",
       "    <tr>\n",
       "      <th>2</th>\n",
       "      <td>2018</td>\n",
       "      <td>Petrol</td>\n",
       "      <td>Automatic</td>\n",
       "      <td>City</td>\n",
       "      <td>29635.0</td>\n",
       "    </tr>\n",
       "    <tr>\n",
       "      <th>3</th>\n",
       "      <td>2020</td>\n",
       "      <td>Petrol</td>\n",
       "      <td>Automatic</td>\n",
       "      <td>City</td>\n",
       "      <td>16163.0</td>\n",
       "    </tr>\n",
       "    <tr>\n",
       "      <th>4</th>\n",
       "      <td>2015</td>\n",
       "      <td>Petrol</td>\n",
       "      <td>Manual</td>\n",
       "      <td>City</td>\n",
       "      <td>105114.0</td>\n",
       "    </tr>\n",
       "  </tbody>\n",
       "</table>\n",
       "</div>"
      ],
      "text/plain": [
       "   Year Fuel Type  Suspension Car Name  kms Driven\n",
       "0  2019   Petrol    Automatic     City     19006.0\n",
       "1  2021   Petrol    Automatic     City     11936.0\n",
       "2  2018   Petrol    Automatic     City     29635.0\n",
       "3  2020   Petrol    Automatic     City     16163.0\n",
       "4  2015   Petrol       Manual     City    105114.0"
      ]
     },
     "execution_count": 255,
     "metadata": {},
     "output_type": "execute_result"
    }
   ],
   "source": [
    "X.head()"
   ]
  },
  {
   "cell_type": "code",
   "execution_count": 256,
   "id": "e1afdb43-a6f6-4961-b830-e70d65a31a85",
   "metadata": {},
   "outputs": [
    {
     "data": {
      "text/plain": [
       "<seaborn.axisgrid.PairGrid at 0x22394a33190>"
      ]
     },
     "execution_count": 256,
     "metadata": {},
     "output_type": "execute_result"
    },
    {
     "data": {
      "image/png": "[encoded data removed]",
      "text/plain": [
       "<Figure size 2000x400 with 5 Axes>"
      ]
     },
     "metadata": {},
     "output_type": "display_data"
    }
   ],
   "source": [
    "new_data = X.copy()\n",
    "new_data[\"Price\"] = y\n",
    "sns.pairplot(new_data,x_vars=new_data.columns[:5], y_vars=new_data.columns[5], height=4)"
   ]
  },
  {
   "cell_type": "code",
   "execution_count": 257,
   "id": "fafe0e54-2c70-4446-b5a9-f44b04eae854",
   "metadata": {},
   "outputs": [],
   "source": [
    "X = pd.get_dummies(X,columns= [\"Fuel Type\",\"Suspension\",\"Car Name\"])"
   ]
  },
  {
   "cell_type": "code",
   "execution_count": 258,
   "id": "d520b418-de5c-4f5b-a3b3-989db938c831",
   "metadata": {},
   "outputs": [
    {
     "data": {
      "text/html": [
       "<div>\n",
       "<style scoped>\n",
       "    .dataframe tbody tr th:only-of-type {\n",
       "        vertical-align: middle;\n",
       "    }\n",
       "\n",
       "    .dataframe tbody tr th {\n",
       "        vertical-align: top;\n",
       "    }\n",
       "\n",
       "    .dataframe thead th {\n",
       "        text-align: right;\n",
       "    }\n",
       "</style>\n",
       "<table border=\"1\" class=\"dataframe\">\n",
       "  <thead>\n",
       "    <tr style=\"text-align: right;\">\n",
       "      <th></th>\n",
       "      <th>Year</th>\n",
       "      <th>kms Driven</th>\n",
       "      <th>Fuel Type_ CNG</th>\n",
       "      <th>Fuel Type_ Diesel</th>\n",
       "      <th>Fuel Type_ Petrol</th>\n",
       "      <th>Suspension_ Automatic</th>\n",
       "      <th>Suspension_ Manual</th>\n",
       "      <th>Car Name_Accord</th>\n",
       "      <th>Car Name_Amaze</th>\n",
       "      <th>Car Name_BR-V</th>\n",
       "      <th>Car Name_Brio</th>\n",
       "      <th>Car Name_CR-V</th>\n",
       "      <th>Car Name_City</th>\n",
       "      <th>Car Name_Civic</th>\n",
       "      <th>Car Name_Jazz</th>\n",
       "      <th>Car Name_Mobilio</th>\n",
       "      <th>Car Name_WR-V</th>\n",
       "    </tr>\n",
       "  </thead>\n",
       "  <tbody>\n",
       "    <tr>\n",
       "      <th>0</th>\n",
       "      <td>2019</td>\n",
       "      <td>19006.0</td>\n",
       "      <td>0</td>\n",
       "      <td>0</td>\n",
       "      <td>1</td>\n",
       "      <td>1</td>\n",
       "      <td>0</td>\n",
       "      <td>0</td>\n",
       "      <td>0</td>\n",
       "      <td>0</td>\n",
       "      <td>0</td>\n",
       "      <td>0</td>\n",
       "      <td>1</td>\n",
       "      <td>0</td>\n",
       "      <td>0</td>\n",
       "      <td>0</td>\n",
       "      <td>0</td>\n",
       "    </tr>\n",
       "    <tr>\n",
       "      <th>1</th>\n",
       "      <td>2021</td>\n",
       "      <td>11936.0</td>\n",
       "      <td>0</td>\n",
       "      <td>0</td>\n",
       "      <td>1</td>\n",
       "      <td>1</td>\n",
       "      <td>0</td>\n",
       "      <td>0</td>\n",
       "      <td>0</td>\n",
       "      <td>0</td>\n",
       "      <td>0</td>\n",
       "      <td>0</td>\n",
       "      <td>1</td>\n",
       "      <td>0</td>\n",
       "      <td>0</td>\n",
       "      <td>0</td>\n",
       "      <td>0</td>\n",
       "    </tr>\n",
       "    <tr>\n",
       "      <th>2</th>\n",
       "      <td>2018</td>\n",
       "      <td>29635.0</td>\n",
       "      <td>0</td>\n",
       "      <td>0</td>\n",
       "      <td>1</td>\n",
       "      <td>1</td>\n",
       "      <td>0</td>\n",
       "      <td>0</td>\n",
       "      <td>0</td>\n",
       "      <td>0</td>\n",
       "      <td>0</td>\n",
       "      <td>0</td>\n",
       "      <td>1</td>\n",
       "      <td>0</td>\n",
       "      <td>0</td>\n",
       "      <td>0</td>\n",
       "      <td>0</td>\n",
       "    </tr>\n",
       "    <tr>\n",
       "      <th>3</th>\n",
       "      <td>2020</td>\n",
       "      <td>16163.0</td>\n",
       "      <td>0</td>\n",
       "      <td>0</td>\n",
       "      <td>1</td>\n",
       "      <td>1</td>\n",
       "      <td>0</td>\n",
       "      <td>0</td>\n",
       "      <td>0</td>\n",
       "      <td>0</td>\n",
       "      <td>0</td>\n",
       "      <td>0</td>\n",
       "      <td>1</td>\n",
       "      <td>0</td>\n",
       "      <td>0</td>\n",
       "      <td>0</td>\n",
       "      <td>0</td>\n",
       "    </tr>\n",
       "    <tr>\n",
       "      <th>4</th>\n",
       "      <td>2015</td>\n",
       "      <td>105114.0</td>\n",
       "      <td>0</td>\n",
       "      <td>0</td>\n",
       "      <td>1</td>\n",
       "      <td>0</td>\n",
       "      <td>1</td>\n",
       "      <td>0</td>\n",
       "      <td>0</td>\n",
       "      <td>0</td>\n",
       "      <td>0</td>\n",
       "      <td>0</td>\n",
       "      <td>1</td>\n",
       "      <td>0</td>\n",
       "      <td>0</td>\n",
       "      <td>0</td>\n",
       "      <td>0</td>\n",
       "    </tr>\n",
       "  </tbody>\n",
       "</table>\n",
       "</div>"
      ],
      "text/plain": [
       "   Year  kms Driven  Fuel Type_ CNG   Fuel Type_ Diesel   Fuel Type_ Petrol   \\\n",
       "0  2019     19006.0                0                   0                   1   \n",
       "1  2021     11936.0                0                   0                   1   \n",
       "2  2018     29635.0                0                   0                   1   \n",
       "3  2020     16163.0                0                   0                   1   \n",
       "4  2015    105114.0                0                   0                   1   \n",
       "\n",
       "   Suspension_ Automatic  Suspension_ Manual  Car Name_Accord  Car Name_Amaze  \\\n",
       "0                      1                   0                0               0   \n",
       "1                      1                   0                0               0   \n",
       "2                      1                   0                0               0   \n",
       "3                      1                   0                0               0   \n",
       "4                      0                   1                0               0   \n",
       "\n",
       "   Car Name_BR-V  Car Name_Brio  Car Name_CR-V  Car Name_City  Car Name_Civic  \\\n",
       "0              0              0              0              1               0   \n",
       "1              0              0              0              1               0   \n",
       "2              0              0              0              1               0   \n",
       "3              0              0              0              1               0   \n",
       "4              0              0              0              1               0   \n",
       "\n",
       "   Car Name_Jazz  Car Name_Mobilio  Car Name_WR-V  \n",
       "0              0                 0              0  \n",
       "1              0                 0              0  \n",
       "2              0                 0              0  \n",
       "3              0                 0              0  \n",
       "4              0                 0              0  "
      ]
     },
     "execution_count": 258,
     "metadata": {},
     "output_type": "execute_result"
    }
   ],
   "source": [
    "X.head()"
   ]
  },
  {
   "cell_type": "code",
   "execution_count": 259,
   "id": "eb250068-1fcb-4e92-96c0-9e7de526a158",
   "metadata": {},
   "outputs": [],
   "source": [
    "cols = X.columns\n",
    "from sklearn.preprocessing import MinMaxScaler\n",
    "mms = MinMaxScaler()\n",
    "X = mms.fit_transform(X)\n",
    "\n",
    "X = pd.DataFrame(X,columns=cols)"
   ]
  },
  {
   "cell_type": "code",
   "execution_count": 260,
   "id": "3d6b0338-b2f6-4a3f-9ae8-cd6f458c3ba0",
   "metadata": {},
   "outputs": [
    {
     "data": {
      "text/html": [
       "<div>\n",
       "<style scoped>\n",
       "    .dataframe tbody tr th:only-of-type {\n",
       "        vertical-align: middle;\n",
       "    }\n",
       "\n",
       "    .dataframe tbody tr th {\n",
       "        vertical-align: top;\n",
       "    }\n",
       "\n",
       "    .dataframe thead th {\n",
       "        text-align: right;\n",
       "    }\n",
       "</style>\n",
       "<table border=\"1\" class=\"dataframe\">\n",
       "  <thead>\n",
       "    <tr style=\"text-align: right;\">\n",
       "      <th></th>\n",
       "      <th>Year</th>\n",
       "      <th>kms Driven</th>\n",
       "      <th>Fuel Type_ CNG</th>\n",
       "      <th>Fuel Type_ Diesel</th>\n",
       "      <th>Fuel Type_ Petrol</th>\n",
       "      <th>Suspension_ Automatic</th>\n",
       "      <th>Suspension_ Manual</th>\n",
       "      <th>Car Name_Accord</th>\n",
       "      <th>Car Name_Amaze</th>\n",
       "      <th>Car Name_BR-V</th>\n",
       "      <th>Car Name_Brio</th>\n",
       "      <th>Car Name_CR-V</th>\n",
       "      <th>Car Name_City</th>\n",
       "      <th>Car Name_Civic</th>\n",
       "      <th>Car Name_Jazz</th>\n",
       "      <th>Car Name_Mobilio</th>\n",
       "      <th>Car Name_WR-V</th>\n",
       "    </tr>\n",
       "  </thead>\n",
       "  <tbody>\n",
       "    <tr>\n",
       "      <th>0</th>\n",
       "      <td>0.826087</td>\n",
       "      <td>0.016003</td>\n",
       "      <td>0.0</td>\n",
       "      <td>0.0</td>\n",
       "      <td>1.0</td>\n",
       "      <td>1.0</td>\n",
       "      <td>0.0</td>\n",
       "      <td>0.0</td>\n",
       "      <td>0.0</td>\n",
       "      <td>0.0</td>\n",
       "      <td>0.0</td>\n",
       "      <td>0.0</td>\n",
       "      <td>1.0</td>\n",
       "      <td>0.0</td>\n",
       "      <td>0.0</td>\n",
       "      <td>0.0</td>\n",
       "      <td>0.0</td>\n",
       "    </tr>\n",
       "    <tr>\n",
       "      <th>1</th>\n",
       "      <td>0.913043</td>\n",
       "      <td>0.009568</td>\n",
       "      <td>0.0</td>\n",
       "      <td>0.0</td>\n",
       "      <td>1.0</td>\n",
       "      <td>1.0</td>\n",
       "      <td>0.0</td>\n",
       "      <td>0.0</td>\n",
       "      <td>0.0</td>\n",
       "      <td>0.0</td>\n",
       "      <td>0.0</td>\n",
       "      <td>0.0</td>\n",
       "      <td>1.0</td>\n",
       "      <td>0.0</td>\n",
       "      <td>0.0</td>\n",
       "      <td>0.0</td>\n",
       "      <td>0.0</td>\n",
       "    </tr>\n",
       "    <tr>\n",
       "      <th>2</th>\n",
       "      <td>0.782609</td>\n",
       "      <td>0.025679</td>\n",
       "      <td>0.0</td>\n",
       "      <td>0.0</td>\n",
       "      <td>1.0</td>\n",
       "      <td>1.0</td>\n",
       "      <td>0.0</td>\n",
       "      <td>0.0</td>\n",
       "      <td>0.0</td>\n",
       "      <td>0.0</td>\n",
       "      <td>0.0</td>\n",
       "      <td>0.0</td>\n",
       "      <td>1.0</td>\n",
       "      <td>0.0</td>\n",
       "      <td>0.0</td>\n",
       "      <td>0.0</td>\n",
       "      <td>0.0</td>\n",
       "    </tr>\n",
       "    <tr>\n",
       "      <th>3</th>\n",
       "      <td>0.869565</td>\n",
       "      <td>0.013416</td>\n",
       "      <td>0.0</td>\n",
       "      <td>0.0</td>\n",
       "      <td>1.0</td>\n",
       "      <td>1.0</td>\n",
       "      <td>0.0</td>\n",
       "      <td>0.0</td>\n",
       "      <td>0.0</td>\n",
       "      <td>0.0</td>\n",
       "      <td>0.0</td>\n",
       "      <td>0.0</td>\n",
       "      <td>1.0</td>\n",
       "      <td>0.0</td>\n",
       "      <td>0.0</td>\n",
       "      <td>0.0</td>\n",
       "      <td>0.0</td>\n",
       "    </tr>\n",
       "    <tr>\n",
       "      <th>4</th>\n",
       "      <td>0.652174</td>\n",
       "      <td>0.094385</td>\n",
       "      <td>0.0</td>\n",
       "      <td>0.0</td>\n",
       "      <td>1.0</td>\n",
       "      <td>0.0</td>\n",
       "      <td>1.0</td>\n",
       "      <td>0.0</td>\n",
       "      <td>0.0</td>\n",
       "      <td>0.0</td>\n",
       "      <td>0.0</td>\n",
       "      <td>0.0</td>\n",
       "      <td>1.0</td>\n",
       "      <td>0.0</td>\n",
       "      <td>0.0</td>\n",
       "      <td>0.0</td>\n",
       "      <td>0.0</td>\n",
       "    </tr>\n",
       "  </tbody>\n",
       "</table>\n",
       "</div>"
      ],
      "text/plain": [
       "       Year  kms Driven  Fuel Type_ CNG   Fuel Type_ Diesel   \\\n",
       "0  0.826087    0.016003              0.0                 0.0   \n",
       "1  0.913043    0.009568              0.0                 0.0   \n",
       "2  0.782609    0.025679              0.0                 0.0   \n",
       "3  0.869565    0.013416              0.0                 0.0   \n",
       "4  0.652174    0.094385              0.0                 0.0   \n",
       "\n",
       "   Fuel Type_ Petrol   Suspension_ Automatic  Suspension_ Manual  \\\n",
       "0                 1.0                    1.0                 0.0   \n",
       "1                 1.0                    1.0                 0.0   \n",
       "2                 1.0                    1.0                 0.0   \n",
       "3                 1.0                    1.0                 0.0   \n",
       "4                 1.0                    0.0                 1.0   \n",
       "\n",
       "   Car Name_Accord  Car Name_Amaze  Car Name_BR-V  Car Name_Brio  \\\n",
       "0              0.0             0.0            0.0            0.0   \n",
       "1              0.0             0.0            0.0            0.0   \n",
       "2              0.0             0.0            0.0            0.0   \n",
       "3              0.0             0.0            0.0            0.0   \n",
       "4              0.0             0.0            0.0            0.0   \n",
       "\n",
       "   Car Name_CR-V  Car Name_City  Car Name_Civic  Car Name_Jazz  \\\n",
       "0            0.0            1.0             0.0            0.0   \n",
       "1            0.0            1.0             0.0            0.0   \n",
       "2            0.0            1.0             0.0            0.0   \n",
       "3            0.0            1.0             0.0            0.0   \n",
       "4            0.0            1.0             0.0            0.0   \n",
       "\n",
       "   Car Name_Mobilio  Car Name_WR-V  \n",
       "0               0.0            0.0  \n",
       "1               0.0            0.0  \n",
       "2               0.0            0.0  \n",
       "3               0.0            0.0  \n",
       "4               0.0            0.0  "
      ]
     },
     "execution_count": 260,
     "metadata": {},
     "output_type": "execute_result"
    }
   ],
   "source": [
    "X.head()"
   ]
  },
  {
   "cell_type": "code",
   "execution_count": 261,
   "id": "75f2095b-4d37-4568-8133-a3eaf15a28c3",
   "metadata": {},
   "outputs": [],
   "source": [
    "from sklearn.model_selection import train_test_split,GridSearchCV\n",
    "X_train,X_test,y_train,y_test = train_test_split(X,y,test_size=0.2,random_state=58)"
   ]
  },
  {
   "cell_type": "code",
   "execution_count": 278,
   "id": "bce29b57-8385-4cf4-ad62-a6b4b84238f6",
   "metadata": {},
   "outputs": [],
   "source": [
    "from sklearn.ensemble import RandomForestRegressor"
   ]
  },
  {
   "cell_type": "code",
   "execution_count": 338,
   "id": "4ae4c6a0-53b4-43a0-8dc3-ab6a71d32394",
   "metadata": {},
   "outputs": [],
   "source": [
    "# I found the best depth with try but ı could use grid search!\n",
    "rfr = RandomForestRegressor(random_state=58,max_depth=6)"
   ]
  },
  {
   "cell_type": "code",
   "execution_count": 339,
   "id": "ff987e76-dd47-4d64-95cc-c5763ba63b3f",
   "metadata": {},
   "outputs": [
    {
     "data": {
      "text/html": [
       "<style>#sk-container-id-12 {color: black;background-color: white;}#sk-container-id-12 pre{padding: 0;}#sk-container-id-12 div.sk-toggleable {background-color: white;}#sk-container-id-12 label.sk-toggleable__label {cursor: pointer;display: block;width: 100%;margin-bottom: 0;padding: 0.3em;box-sizing: border-box;text-align: center;}#sk-container-id-12 label.sk-toggleable__label-arrow:before {content: \"▸\";float: left;margin-right: 0.25em;color: #696969;}#sk-container-id-12 label.sk-toggleable__label-arrow:hover:before {color: black;}#sk-container-id-12 div.sk-estimator:hover label.sk-toggleable__label-arrow:before {color: black;}#sk-container-id-12 div.sk-toggleable__content {max-height: 0;max-width: 0;overflow: hidden;text-align: left;background-color: #f0f8ff;}#sk-container-id-12 div.sk-toggleable__content pre {margin: 0.2em;color: black;border-radius: 0.25em;background-color: #f0f8ff;}#sk-container-id-12 input.sk-toggleable__control:checked~div.sk-toggleable__content {max-height: 200px;max-width: 100%;overflow: auto;}#sk-container-id-12 input.sk-toggleable__control:checked~label.sk-toggleable__label-arrow:before {content: \"▾\";}#sk-container-id-12 div.sk-estimator input.sk-toggleable__control:checked~label.sk-toggleable__label {background-color: #d4ebff;}#sk-container-id-12 div.sk-label input.sk-toggleable__control:checked~label.sk-toggleable__label {background-color: #d4ebff;}#sk-container-id-12 input.sk-hidden--visually {border: 0;clip: rect(1px 1px 1px 1px);clip: rect(1px, 1px, 1px, 1px);height: 1px;margin: -1px;overflow: hidden;padding: 0;position: absolute;width: 1px;}#sk-container-id-12 div.sk-estimator {font-family: monospace;background-color: #f0f8ff;border: 1px dotted black;border-radius: 0.25em;box-sizing: border-box;margin-bottom: 0.5em;}#sk-container-id-12 div.sk-estimator:hover {background-color: #d4ebff;}#sk-container-id-12 div.sk-parallel-item::after {content: \"\";width: 100%;border-bottom: 1px solid gray;flex-grow: 1;}#sk-container-id-12 div.sk-label:hover label.sk-toggleable__label {background-color: #d4ebff;}#sk-container-id-12 div.sk-serial::before {content: \"\";position: absolute;border-left: 1px solid gray;box-sizing: border-box;top: 0;bottom: 0;left: 50%;z-index: 0;}#sk-container-id-12 div.sk-serial {display: flex;flex-direction: column;align-items: center;background-color: white;padding-right: 0.2em;padding-left: 0.2em;position: relative;}#sk-container-id-12 div.sk-item {position: relative;z-index: 1;}#sk-container-id-12 div.sk-parallel {display: flex;align-items: stretch;justify-content: center;background-color: white;position: relative;}#sk-container-id-12 div.sk-item::before, #sk-container-id-12 div.sk-parallel-item::before {content: \"\";position: absolute;border-left: 1px solid gray;box-sizing: border-box;top: 0;bottom: 0;left: 50%;z-index: -1;}#sk-container-id-12 div.sk-parallel-item {display: flex;flex-direction: column;z-index: 1;position: relative;background-color: white;}#sk-container-id-12 div.sk-parallel-item:first-child::after {align-self: flex-end;width: 50%;}#sk-container-id-12 div.sk-parallel-item:last-child::after {align-self: flex-start;width: 50%;}#sk-container-id-12 div.sk-parallel-item:only-child::after {width: 0;}#sk-container-id-12 div.sk-dashed-wrapped {border: 1px dashed gray;margin: 0 0.4em 0.5em 0.4em;box-sizing: border-box;padding-bottom: 0.4em;background-color: white;}#sk-container-id-12 div.sk-label label {font-family: monospace;font-weight: bold;display: inline-block;line-height: 1.2em;}#sk-container-id-12 div.sk-label-container {text-align: center;}#sk-container-id-12 div.sk-container {/* jupyter's `normalize.less` sets `[hidden] { display: none; }` but bootstrap.min.css set `[hidden] { display: none !important; }` so we also need the `!important` here to be able to override the default hidden behavior on the sphinx rendered scikit-learn.org. See: https://github.com/scikit-learn/scikit-learn/issues/21755 */display: inline-block !important;position: relative;}#sk-container-id-12 div.sk-text-repr-fallback {display: none;}</style><div id=\"sk-container-id-12\" class=\"sk-top-container\"><div class=\"sk-text-repr-fallback\"><pre>RandomForestRegressor(max_depth=6, random_state=58)</pre><b>In a Jupyter environment, please rerun this cell to show the HTML representation or trust the notebook. <br />On GitHub, the HTML representation is unable to render, please try loading this page with nbviewer.org.</b></div><div class=\"sk-container\" hidden><div class=\"sk-item\"><div class=\"sk-estimator sk-toggleable\"><input class=\"sk-toggleable__control sk-hidden--visually\" id=\"sk-estimator-id-12\" type=\"checkbox\" checked><label for=\"sk-estimator-id-12\" class=\"sk-toggleable__label sk-toggleable__label-arrow\">RandomForestRegressor</label><div class=\"sk-toggleable__content\"><pre>RandomForestRegressor(max_depth=6, random_state=58)</pre></div></div></div></div></div>"
      ],
      "text/plain": [
       "RandomForestRegressor(max_depth=6, random_state=58)"
      ]
     },
     "execution_count": 339,
     "metadata": {},
     "output_type": "execute_result"
    }
   ],
   "source": [
    "rfr.fit(X_train,y_train)"
   ]
  },
  {
   "cell_type": "code",
   "execution_count": 340,
   "id": "be6776be-6384-4c7e-abf7-abfe09a387ae",
   "metadata": {},
   "outputs": [],
   "source": [
    "y_predict = rfr.predict(X_test)"
   ]
  },
  {
   "cell_type": "code",
   "execution_count": 341,
   "id": "9565addb-53b3-4423-affa-c2358ff09f55",
   "metadata": {},
   "outputs": [
    {
     "name": "stdout",
     "output_type": "stream",
     "text": [
      "R2 Score = 0.8957728631782761\n"
     ]
    }
   ],
   "source": [
    "from sklearn.metrics import r2_score\n",
    "print(\"R2 Score = {}\".format(r2_score(y_test,y_predict)))"
   ]
  },
  {
   "cell_type": "code",
   "execution_count": 342,
   "id": "cd8eb071-b274-41b0-9a57-f39e193edcc1",
   "metadata": {},
   "outputs": [
    {
     "name": "stdout",
     "output_type": "stream",
     "text": [
      "R2 Score = 0.9280018294420426\n"
     ]
    }
   ],
   "source": [
    "# I check ovrtfit and doesn't overfit!\n",
    "y_predict_train = rfr.predict(X_train)\n",
    "print(\"R2 Score = {}\".format(r2_score(y_train,y_predict_train)))"
   ]
  }
 ],
 "metadata": {
  "kernelspec": {
   "display_name": "Python 3 (ipykernel)",
   "language": "python",
   "name": "python3"
  },
  "language_info": {
   "codemirror_mode": {
    "name": "ipython",
    "version": 3
   },
   "file_extension": ".py",
   "mimetype": "text/x-python",
   "name": "python",
   "nbconvert_exporter": "python",
   "pygments_lexer": "ipython3",
   "version": "3.10.9"
  }
 },
 "nbformat": 4,
 "nbformat_minor": 5
}

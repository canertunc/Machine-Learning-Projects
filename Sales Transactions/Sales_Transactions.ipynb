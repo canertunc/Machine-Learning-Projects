{
 "cells": [
  {
   "cell_type": "markdown",
   "id": "faeca63d-31a4-49db-a5d5-39aa7e873300",
   "metadata": {},
   "source": [
    "**I made clustering in the weekly sales transactions dataset.**"
   ]
  },
  {
   "cell_type": "markdown",
   "id": "2254b34d-01b9-4a87-93ee-6049bb5e4d5c",
   "metadata": {},
   "source": [
    "**with Clustering and PCA**"
   ]
  },
  {
   "cell_type": "code",
   "execution_count": 75,
   "id": "872fa8cb-d7f8-4229-87c4-5ba86f3b6118",
   "metadata": {},
   "outputs": [],
   "source": [
    "import pandas as pd\n",
    "import numpy as np\n",
    "import matplotlib.pyplot as plt\n",
    "import seaborn as sns\n",
    "import warnings\n",
    "\n",
    "warnings.filterwarnings('ignore')"
   ]
  },
  {
   "cell_type": "code",
   "execution_count": 76,
   "id": "3ca88e57-6272-4139-8742-7b1dec747aed",
   "metadata": {},
   "outputs": [],
   "source": [
    "data = pd.read_csv(\"Sales_Transactions_Dataset_Weekly.csv\",index_col=\"Product_Code\")"
   ]
  },
  {
   "cell_type": "code",
   "execution_count": 77,
   "id": "d4e4e995-eb6a-4ec6-b5f0-8e412a2fe4e4",
   "metadata": {},
   "outputs": [
    {
     "data": {
      "text/html": [
       "<div>\n",
       "<style scoped>\n",
       "    .dataframe tbody tr th:only-of-type {\n",
       "        vertical-align: middle;\n",
       "    }\n",
       "\n",
       "    .dataframe tbody tr th {\n",
       "        vertical-align: top;\n",
       "    }\n",
       "\n",
       "    .dataframe thead th {\n",
       "        text-align: right;\n",
       "    }\n",
       "</style>\n",
       "<table border=\"1\" class=\"dataframe\">\n",
       "  <thead>\n",
       "    <tr style=\"text-align: right;\">\n",
       "      <th></th>\n",
       "      <th>W0</th>\n",
       "      <th>W1</th>\n",
       "      <th>W2</th>\n",
       "      <th>W3</th>\n",
       "      <th>W4</th>\n",
       "      <th>W5</th>\n",
       "      <th>W6</th>\n",
       "      <th>W7</th>\n",
       "      <th>W8</th>\n",
       "      <th>W9</th>\n",
       "      <th>...</th>\n",
       "      <th>Normalized 42</th>\n",
       "      <th>Normalized 43</th>\n",
       "      <th>Normalized 44</th>\n",
       "      <th>Normalized 45</th>\n",
       "      <th>Normalized 46</th>\n",
       "      <th>Normalized 47</th>\n",
       "      <th>Normalized 48</th>\n",
       "      <th>Normalized 49</th>\n",
       "      <th>Normalized 50</th>\n",
       "      <th>Normalized 51</th>\n",
       "    </tr>\n",
       "    <tr>\n",
       "      <th>Product_Code</th>\n",
       "      <th></th>\n",
       "      <th></th>\n",
       "      <th></th>\n",
       "      <th></th>\n",
       "      <th></th>\n",
       "      <th></th>\n",
       "      <th></th>\n",
       "      <th></th>\n",
       "      <th></th>\n",
       "      <th></th>\n",
       "      <th></th>\n",
       "      <th></th>\n",
       "      <th></th>\n",
       "      <th></th>\n",
       "      <th></th>\n",
       "      <th></th>\n",
       "      <th></th>\n",
       "      <th></th>\n",
       "      <th></th>\n",
       "      <th></th>\n",
       "      <th></th>\n",
       "    </tr>\n",
       "  </thead>\n",
       "  <tbody>\n",
       "    <tr>\n",
       "      <th>P1</th>\n",
       "      <td>11</td>\n",
       "      <td>12</td>\n",
       "      <td>10</td>\n",
       "      <td>8</td>\n",
       "      <td>13</td>\n",
       "      <td>12</td>\n",
       "      <td>14</td>\n",
       "      <td>21</td>\n",
       "      <td>6</td>\n",
       "      <td>14</td>\n",
       "      <td>...</td>\n",
       "      <td>0.06</td>\n",
       "      <td>0.22</td>\n",
       "      <td>0.28</td>\n",
       "      <td>0.39</td>\n",
       "      <td>0.50</td>\n",
       "      <td>0.00</td>\n",
       "      <td>0.22</td>\n",
       "      <td>0.17</td>\n",
       "      <td>0.11</td>\n",
       "      <td>0.39</td>\n",
       "    </tr>\n",
       "    <tr>\n",
       "      <th>P2</th>\n",
       "      <td>7</td>\n",
       "      <td>6</td>\n",
       "      <td>3</td>\n",
       "      <td>2</td>\n",
       "      <td>7</td>\n",
       "      <td>1</td>\n",
       "      <td>6</td>\n",
       "      <td>3</td>\n",
       "      <td>3</td>\n",
       "      <td>3</td>\n",
       "      <td>...</td>\n",
       "      <td>0.20</td>\n",
       "      <td>0.40</td>\n",
       "      <td>0.50</td>\n",
       "      <td>0.10</td>\n",
       "      <td>0.10</td>\n",
       "      <td>0.40</td>\n",
       "      <td>0.50</td>\n",
       "      <td>0.10</td>\n",
       "      <td>0.60</td>\n",
       "      <td>0.00</td>\n",
       "    </tr>\n",
       "    <tr>\n",
       "      <th>P3</th>\n",
       "      <td>7</td>\n",
       "      <td>11</td>\n",
       "      <td>8</td>\n",
       "      <td>9</td>\n",
       "      <td>10</td>\n",
       "      <td>8</td>\n",
       "      <td>7</td>\n",
       "      <td>13</td>\n",
       "      <td>12</td>\n",
       "      <td>6</td>\n",
       "      <td>...</td>\n",
       "      <td>0.27</td>\n",
       "      <td>1.00</td>\n",
       "      <td>0.18</td>\n",
       "      <td>0.18</td>\n",
       "      <td>0.36</td>\n",
       "      <td>0.45</td>\n",
       "      <td>1.00</td>\n",
       "      <td>0.45</td>\n",
       "      <td>0.45</td>\n",
       "      <td>0.36</td>\n",
       "    </tr>\n",
       "    <tr>\n",
       "      <th>P4</th>\n",
       "      <td>12</td>\n",
       "      <td>8</td>\n",
       "      <td>13</td>\n",
       "      <td>5</td>\n",
       "      <td>9</td>\n",
       "      <td>6</td>\n",
       "      <td>9</td>\n",
       "      <td>13</td>\n",
       "      <td>13</td>\n",
       "      <td>11</td>\n",
       "      <td>...</td>\n",
       "      <td>0.41</td>\n",
       "      <td>0.47</td>\n",
       "      <td>0.06</td>\n",
       "      <td>0.12</td>\n",
       "      <td>0.24</td>\n",
       "      <td>0.35</td>\n",
       "      <td>0.71</td>\n",
       "      <td>0.35</td>\n",
       "      <td>0.29</td>\n",
       "      <td>0.35</td>\n",
       "    </tr>\n",
       "    <tr>\n",
       "      <th>P5</th>\n",
       "      <td>8</td>\n",
       "      <td>5</td>\n",
       "      <td>13</td>\n",
       "      <td>11</td>\n",
       "      <td>6</td>\n",
       "      <td>7</td>\n",
       "      <td>9</td>\n",
       "      <td>14</td>\n",
       "      <td>9</td>\n",
       "      <td>9</td>\n",
       "      <td>...</td>\n",
       "      <td>0.27</td>\n",
       "      <td>0.53</td>\n",
       "      <td>0.27</td>\n",
       "      <td>0.60</td>\n",
       "      <td>0.20</td>\n",
       "      <td>0.20</td>\n",
       "      <td>0.13</td>\n",
       "      <td>0.53</td>\n",
       "      <td>0.33</td>\n",
       "      <td>0.40</td>\n",
       "    </tr>\n",
       "  </tbody>\n",
       "</table>\n",
       "<p>5 rows × 106 columns</p>\n",
       "</div>"
      ],
      "text/plain": [
       "              W0  W1  W2  W3  W4  W5  W6  W7  W8  W9  ...  Normalized 42  \\\n",
       "Product_Code                                          ...                  \n",
       "P1            11  12  10   8  13  12  14  21   6  14  ...           0.06   \n",
       "P2             7   6   3   2   7   1   6   3   3   3  ...           0.20   \n",
       "P3             7  11   8   9  10   8   7  13  12   6  ...           0.27   \n",
       "P4            12   8  13   5   9   6   9  13  13  11  ...           0.41   \n",
       "P5             8   5  13  11   6   7   9  14   9   9  ...           0.27   \n",
       "\n",
       "              Normalized 43  Normalized 44  Normalized 45  Normalized 46  \\\n",
       "Product_Code                                                               \n",
       "P1                     0.22           0.28           0.39           0.50   \n",
       "P2                     0.40           0.50           0.10           0.10   \n",
       "P3                     1.00           0.18           0.18           0.36   \n",
       "P4                     0.47           0.06           0.12           0.24   \n",
       "P5                     0.53           0.27           0.60           0.20   \n",
       "\n",
       "              Normalized 47  Normalized 48  Normalized 49  Normalized 50  \\\n",
       "Product_Code                                                               \n",
       "P1                     0.00           0.22           0.17           0.11   \n",
       "P2                     0.40           0.50           0.10           0.60   \n",
       "P3                     0.45           1.00           0.45           0.45   \n",
       "P4                     0.35           0.71           0.35           0.29   \n",
       "P5                     0.20           0.13           0.53           0.33   \n",
       "\n",
       "              Normalized 51  \n",
       "Product_Code                 \n",
       "P1                     0.39  \n",
       "P2                     0.00  \n",
       "P3                     0.36  \n",
       "P4                     0.35  \n",
       "P5                     0.40  \n",
       "\n",
       "[5 rows x 106 columns]"
      ]
     },
     "execution_count": 77,
     "metadata": {},
     "output_type": "execute_result"
    }
   ],
   "source": [
    "data.head()"
   ]
  },
  {
   "cell_type": "code",
   "execution_count": 78,
   "id": "f2a99683-7b4b-48d3-b68e-963561849340",
   "metadata": {},
   "outputs": [
    {
     "name": "stdout",
     "output_type": "stream",
     "text": [
      "<class 'pandas.core.frame.DataFrame'>\n",
      "Index: 811 entries, P1 to P819\n",
      "Columns: 106 entries, W0 to Normalized 51\n",
      "dtypes: float64(52), int64(54)\n",
      "memory usage: 677.9+ KB\n"
     ]
    }
   ],
   "source": [
    "data.info()"
   ]
  },
  {
   "cell_type": "code",
   "execution_count": 79,
   "id": "c1a2c85b-7604-4b35-b7fd-3df871a7d37c",
   "metadata": {},
   "outputs": [
    {
     "data": {
      "text/plain": [
       "0"
      ]
     },
     "execution_count": 79,
     "metadata": {},
     "output_type": "execute_result"
    }
   ],
   "source": [
    "data.isna().sum().sum()"
   ]
  },
  {
   "cell_type": "code",
   "execution_count": 80,
   "id": "116334b1-b2b8-48da-9199-b9bff1b719fd",
   "metadata": {},
   "outputs": [],
   "source": [
    "data.drop_duplicates(inplace=True)"
   ]
  },
  {
   "cell_type": "code",
   "execution_count": 81,
   "id": "8d59131f-378e-4b1f-a76e-78fc467333d8",
   "metadata": {},
   "outputs": [],
   "source": [
    "from sklearn.cluster import KMeans"
   ]
  },
  {
   "cell_type": "code",
   "execution_count": 83,
   "id": "dc3f3f65-abaa-4637-a1bf-e7fd14cd683e",
   "metadata": {},
   "outputs": [],
   "source": [
    "X= data.values"
   ]
  },
  {
   "cell_type": "code",
   "execution_count": 84,
   "id": "97292a8c-4b69-473b-99b0-67679b4516d4",
   "metadata": {},
   "outputs": [
    {
     "data": {
      "text/plain": [
       "array([[11.  , 12.  , 10.  , ...,  0.17,  0.11,  0.39],\n",
       "       [ 7.  ,  6.  ,  3.  , ...,  0.1 ,  0.6 ,  0.  ],\n",
       "       [ 7.  , 11.  ,  8.  , ...,  0.45,  0.45,  0.36],\n",
       "       ...,\n",
       "       [ 1.  ,  0.  ,  0.  , ...,  0.  ,  1.  ,  0.75],\n",
       "       [ 0.  ,  0.  ,  0.  , ...,  0.  ,  1.  ,  0.  ],\n",
       "       [ 0.  ,  1.  ,  0.  , ...,  0.  ,  0.  ,  0.33]])"
      ]
     },
     "execution_count": 84,
     "metadata": {},
     "output_type": "execute_result"
    }
   ],
   "source": [
    "X"
   ]
  },
  {
   "cell_type": "code",
   "execution_count": 127,
   "id": "bcfdb62d-8911-40ee-9e41-102a5a4a44d0",
   "metadata": {},
   "outputs": [],
   "source": [
    "from sklearn import decomposition\n",
    "pca = decomposition.PCA(n_components=10)\n",
    "X_centered = X - X.mean(axis=0)"
   ]
  },
  {
   "cell_type": "code",
   "execution_count": 128,
   "id": "10565024-8a8b-4fa1-baa9-4a302687df2c",
   "metadata": {},
   "outputs": [
    {
     "data": {
      "text/plain": [
       "array([[  6.08111348,  -7.30159902,   1.96288235, ...,  -7.48111254,\n",
       "          3.25167433,   0.52739813],\n",
       "       [-36.47655908,  -4.09084858,   2.74624   , ...,   4.62545076,\n",
       "         -1.55468041,   4.38321119],\n",
       "       [ -2.31328588,  -2.18073027,  -2.71028246, ...,  -0.73916363,\n",
       "          6.06293533,   0.39843302],\n",
       "       ...,\n",
       "       [-62.28059177,  -1.36364481,  -0.28981194, ...,   0.81167573,\n",
       "         -0.16536211,   1.34081465],\n",
       "       [-63.87519458,  -2.69743009,  -0.67398249, ...,   0.17212836,\n",
       "          0.15132608,  -0.63572774],\n",
       "       [-63.75705965,  -3.8783763 ,  -0.29255732, ...,   1.08184922,\n",
       "         -1.19548391,   0.36085157]])"
      ]
     },
     "execution_count": 128,
     "metadata": {},
     "output_type": "execute_result"
    }
   ],
   "source": [
    "pca.fit(X_centered)\n",
    "\n",
    "X_pca = pca.transform(X_centered)\n",
    "X_pca"
   ]
  },
  {
   "cell_type": "code",
   "execution_count": 134,
   "id": "09ba9a39-312c-47cb-8199-249f8f94f197",
   "metadata": {},
   "outputs": [
    {
     "name": "stdout",
     "output_type": "stream",
     "text": [
      "1. Feature = %92.45194611856633\n",
      "2. Feature = %0.8343376658620048\n",
      "3. Feature = %0.2736943470024279\n",
      "4. Feature = %0.24526554487607194\n",
      "5. Feature = %0.24142809361242606\n",
      "6. Feature = %0.23192565269403642\n",
      "7. Feature = %0.22777524304183155\n",
      "8. Feature = %0.2217098749047355\n",
      "9. Feature = %0.21218454979354695\n",
      "10. Feature = %0.20384819582861852\n"
     ]
    }
   ],
   "source": [
    "a = 1\n",
    "for i in pca.explained_variance_ratio_:\n",
    "    print(f\"{a}. Feature = %{i*100}\")\n",
    "    a+=1\n",
    "# I could use just number one feature!"
   ]
  },
  {
   "cell_type": "code",
   "execution_count": 129,
   "id": "8505f963-2a8f-41a0-a3d4-b0f68087fa94",
   "metadata": {},
   "outputs": [],
   "source": [
    "k_means = KMeans(n_clusters = 5, init = 'k-means++', random_state = 58).fit(X_pca)"
   ]
  },
  {
   "cell_type": "code",
   "execution_count": 130,
   "id": "f850da75-c633-40af-a726-d733975efc3f",
   "metadata": {},
   "outputs": [
    {
     "data": {
      "text/plain": [
       "array([[-3.87330980e+01,  9.56662198e-01, -3.60684724e-01,\n",
       "        -5.45196505e-02,  1.60546524e-01, -8.82305209e-03,\n",
       "         3.47032835e-01,  1.51420749e-01,  2.39860710e-01,\n",
       "         4.70477276e-02],\n",
       "       [ 1.83909079e+02, -5.29325652e+00, -3.08609568e-01,\n",
       "         3.64993592e-01,  1.49733966e-01,  6.73514746e-01,\n",
       "        -1.79736506e-01,  3.05799734e-01,  6.05656873e-01,\n",
       "        -1.69920817e-01],\n",
       "       [ 7.77963319e+00,  3.86507205e+00,  2.38947222e-01,\n",
       "        -4.53842632e-01, -3.89683493e-01, -8.23903798e-01,\n",
       "         4.82379631e-02, -9.31886582e-01, -8.86619391e-01,\n",
       "        -1.77065997e-02],\n",
       "       [-6.31987810e+01, -2.93296972e+00, -3.00093802e-02,\n",
       "         2.67323076e-01,  4.46992855e-02,  4.63354178e-01,\n",
       "        -2.44650957e-01,  3.28673262e-01,  2.86892430e-01,\n",
       "        -5.13903967e-02],\n",
       "       [ 6.85587110e+01,  1.64031979e+01,  1.70286539e+00,\n",
       "        -9.66259004e-01, -1.90973713e-02, -2.01260011e+00,\n",
       "         5.04126101e-01, -4.23290827e-01, -1.46892282e+00,\n",
       "         6.62836769e-01]])"
      ]
     },
     "execution_count": 130,
     "metadata": {},
     "output_type": "execute_result"
    }
   ],
   "source": [
    "k_means.cluster_centers_"
   ]
  },
  {
   "cell_type": "code",
   "execution_count": 131,
   "id": "d402f444-92e7-46fa-906f-f1dcc4228f31",
   "metadata": {},
   "outputs": [
    {
     "data": {
      "image/png": "[encoded data removed]",
      "text/plain": [
       "<Figure size 640x480 with 1 Axes>"
      ]
     },
     "metadata": {},
     "output_type": "display_data"
    }
   ],
   "source": [
    "y = k_means.labels_\n",
    "\n",
    "colors = ['r', 'g', 'b', 'c', 'm']\n",
    "\n",
    "labels = np.unique(labels)\n",
    "colors = [plt.cm.tab20(i/float(len(labels)-1)) for i in range(len(labels))]\n",
    "c = [colors[labels[i]-1] for i in range(len(labels))]\n",
    "\n",
    "fig, ax = plt.subplots()\n",
    "for i in range(len(labels)):\n",
    "    ax.scatter(X_pca[y==labels[i], 0], X_pca[y==labels[i], 1], c=c[i], label=labels[i])\n",
    "ax.legend()\n",
    "plt.show()"
   ]
  },
  {
   "cell_type": "code",
   "execution_count": null,
   "id": "8436014e-db13-488d-a081-8eb091f7024c",
   "metadata": {},
   "outputs": [],
   "source": []
  }
 ],
 "metadata": {
  "kernelspec": {
   "display_name": "Python 3 (ipykernel)",
   "language": "python",
   "name": "python3"
  },
  "language_info": {
   "codemirror_mode": {
    "name": "ipython",
    "version": 3
   },
   "file_extension": ".py",
   "mimetype": "text/x-python",
   "name": "python",
   "nbconvert_exporter": "python",
   "pygments_lexer": "ipython3",
   "version": "3.10.9"
  }
 },
 "nbformat": 4,
 "nbformat_minor": 5
}
